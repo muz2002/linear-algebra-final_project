{
 "cells": [
  {
   "cell_type": "markdown",
   "id": "6828f5a6",
   "metadata": {},
   "source": [
    "```python\n"
   ]
  },
  {
   "cell_type": "markdown",
   "id": "37323f6c",
   "metadata": {},
   "source": [
    "# Linear Algebra Final Project - Finding eigenvalues and eigenvectors"
   ]
  },
  {
   "cell_type": "code",
   "execution_count": 4,
   "id": "153c45f0",
   "metadata": {},
   "outputs": [],
   "source": [
    "import numpy as np\n",
    "from numpy.linalg import eig, inv"
   ]
  },
  {
   "cell_type": "markdown",
   "id": "7d757513",
   "metadata": {},
   "source": [
    "# Define the matrix"
   ]
  },
  {
   "cell_type": "code",
   "execution_count": 5,
   "id": "7baa7fb6",
   "metadata": {},
   "outputs": [],
   "source": [
    "A = np.array([[2, 3], \n",
    "              [1, 4]])\n"
   ]
  },
  {
   "cell_type": "markdown",
   "id": "70e470d7",
   "metadata": {},
   "source": [
    "# Calculate eigenvalues and eigenvectors"
   ]
  },
  {
   "cell_type": "code",
   "execution_count": 6,
   "id": "07ee9154",
   "metadata": {},
   "outputs": [],
   "source": [
    "eigenvalues, eigenvectors = eig(A)"
   ]
  },
  {
   "cell_type": "markdown",
   "id": "addeb3b5",
   "metadata": {},
   "source": [
    "# Diagonalize the matrix"
   ]
  },
  {
   "cell_type": "code",
   "execution_count": 7,
   "id": "55814f16",
   "metadata": {},
   "outputs": [],
   "source": [
    "D = np.diag(eigenvalues)\n",
    "P = eigenvectors\n"
   ]
  },
  {
   "cell_type": "markdown",
   "id": "1f0e752e",
   "metadata": {},
   "source": [
    "# Verify A = PDP^-1"
   ]
  },
  {
   "cell_type": "code",
   "execution_count": 8,
   "id": "2bf0412a",
   "metadata": {},
   "outputs": [],
   "source": [
    "A_reconstructed = np.dot(P, np.dot(D, inv(P)))\n"
   ]
  },
  {
   "cell_type": "markdown",
   "id": "bef544fc",
   "metadata": {},
   "source": [
    "# Print results"
   ]
  },
  {
   "cell_type": "code",
   "execution_count": 9,
   "id": "21c70d53",
   "metadata": {},
   "outputs": [
    {
     "name": "stdout",
     "output_type": "stream",
     "text": [
      "Original matrix A:\n",
      " [[2 3]\n",
      " [1 4]]\n",
      "\n",
      "Eigenvalues:\n",
      " [1. 5.]\n",
      "\n",
      "Eigenvectors:\n",
      " [[-0.9486833  -0.70710678]\n",
      " [ 0.31622777 -0.70710678]]\n",
      "\n",
      "Diagonal matrix D:\n",
      " [[1. 0.]\n",
      " [0. 5.]]\n",
      "\n",
      "Matrix P:\n",
      " [[-0.9486833  -0.70710678]\n",
      " [ 0.31622777 -0.70710678]]\n",
      "\n",
      "Reconstructed matrix A from PDP^-1:\n",
      " [[2. 3.]\n",
      " [1. 4.]]\n"
     ]
    }
   ],
   "source": [
    "print(\"Original matrix A:\\n\", A)\n",
    "print(\"\\nEigenvalues:\\n\", eigenvalues)\n",
    "print(\"\\nEigenvectors:\\n\", eigenvectors)\n",
    "print(\"\\nDiagonal matrix D:\\n\", D)\n",
    "print(\"\\nMatrix P:\\n\", P)\n",
    "print(\"\\nReconstructed matrix A from PDP^-1:\\n\", A_reconstructed)"
   ]
  },
  {
   "cell_type": "code",
   "execution_count": 10,
   "id": "be4b472e",
   "metadata": {},
   "outputs": [
    {
     "name": "stdout",
     "output_type": "stream",
     "text": [
      "Eigenvalues: [5.0, 1.0]\n",
      "Eigenvectors:\n",
      "Lambda_1: [0.70710678 0.70710678]\n",
      "Lambda_2: [ 0.9486833  -0.31622777]\n"
     ]
    }
   ],
   "source": [
    "import numpy as np\n",
    "\n",
    "def power_iteration(A, num_iter):\n",
    "    n = A.shape[0]\n",
    "    b_k = np.random.rand(n)\n",
    "    \n",
    "    for _ in range(num_iter):\n",
    "        b_k1 = np.dot(A, b_k)\n",
    "        b_k1_norm = np.linalg.norm(b_k1)\n",
    "        b_k = b_k1 / b_k1_norm\n",
    "    \n",
    "    eigenvalue = np.dot(np.dot(b_k.T, A), b_k)\n",
    "    eigenvector = b_k / np.linalg.norm(b_k)\n",
    "    \n",
    "    return eigenvalue, eigenvector\n",
    "\n",
    "def calculate_eigenvalues_eigenvectors(A, num_iter=1000, tol=1e-6):\n",
    "    n = A.shape[0]\n",
    "    eigenvalues = []\n",
    "    eigenvectors = []\n",
    "    \n",
    "    for i in range(n):\n",
    "        B = A - np.eye(n) * A[i, i]\n",
    "        \n",
    "        eigenvalue, eigenvector = power_iteration(B, num_iter)\n",
    "        eigenvalues.append(eigenvalue + A[i, i])\n",
    "        eigenvectors.append(eigenvector)\n",
    "    \n",
    "    return eigenvalues, eigenvectors\n",
    "\n",
    "# Example usage:\n",
    "# Define your matrix A\n",
    "A = np.array([[2, 3],\n",
    "              [1, 4]])\n",
    "\n",
    "eigenvalues, eigenvectors = calculate_eigenvalues_eigenvectors(A)\n",
    "print(\"Eigenvalues:\", eigenvalues)\n",
    "print(\"Eigenvectors:\")\n",
    "for i, eigenvector in enumerate(eigenvectors):\n",
    "    print(f\"Lambda_{i+1}: {eigenvector}\")\n"
   ]
  },
  {
   "cell_type": "code",
   "execution_count": null,
   "id": "20d86132",
   "metadata": {},
   "outputs": [],
   "source": []
  }
 ],
 "metadata": {
  "kernelspec": {
   "display_name": "Python 3 (ipykernel)",
   "language": "python",
   "name": "python3"
  },
  "language_info": {
   "codemirror_mode": {
    "name": "ipython",
    "version": 3
   },
   "file_extension": ".py",
   "mimetype": "text/x-python",
   "name": "python",
   "nbconvert_exporter": "python",
   "pygments_lexer": "ipython3",
   "version": "3.11.5"
  }
 },
 "nbformat": 4,
 "nbformat_minor": 5
}
